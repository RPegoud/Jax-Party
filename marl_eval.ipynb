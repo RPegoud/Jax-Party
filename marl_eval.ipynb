{
 "cells": [
  {
   "cell_type": "markdown",
   "metadata": {},
   "source": [
    "# MARL-eval Tools quickstart notebook\n",
    "This notebook provides an easy introduction to the `marl-eval` repo by showing examples of how to use the different plotting and data processing tools.\n"
   ]
  },
  {
   "cell_type": "markdown",
   "metadata": {},
   "source": [
    "### 1. Installing packages\n",
    "We start by installing the necessary packages"
   ]
  },
  {
   "cell_type": "code",
   "execution_count": 1,
   "metadata": {},
   "outputs": [],
   "source": [
    "#@title Install required packages. (Run Cell)\n",
    "\n",
    "# Install required packages.\n",
    "# ! pip install \"git+https://github.com/instadeepai/marl-eval.git\""
   ]
  },
  {
   "cell_type": "markdown",
   "metadata": {},
   "source": [
    "### 2. Import the necessary modules\n",
    "Import the necessary modules that will be used for processing MARL experiment data and for producing plots"
   ]
  },
  {
   "cell_type": "code",
   "execution_count": 2,
   "metadata": {},
   "outputs": [],
   "source": [
    "# @title Import required packages. (Run Cell)\n",
    "import json\n",
    "\n",
    "from marl_eval.plotting_tools.plotting import (\n",
    "    aggregate_scores,\n",
    "    performance_profiles,\n",
    "    plot_single_task,\n",
    "    probability_of_improvement,\n",
    "    sample_efficiency_curves,\n",
    ")\n",
    "\n",
    "from marl_eval.utils.data_processing_utils import (\n",
    "    create_matrices_for_rliable,\n",
    "    data_process_pipeline,\n",
    ")\n",
    "from marl_eval.utils.diagnose_data_errors import DiagnoseData"
   ]
  },
  {
   "cell_type": "markdown",
   "metadata": {},
   "source": [
    "### 3. Data processing and preparation\n",
    "\n",
    "Import the json file containing raw experiment data and run the processing pipeline that will normalise any relevant data.\n",
    "\n",
    "An example data json file is provided [here](https://github.com/instadeepai/marl-eval/blob/develop/examples/example_results.json) but should you wish to not use it, you can generate your own data using the [`generate_dummy_data.py`](https://github.com/instadeepai/marl-eval/blob/develop/examples/generate_dummy_data.py) script. \n",
    "\n",
    "MARL-eval also has optional support for passing in a custom legend mapping dictionary which maps the names of algorithms found in the raw experiment data to a custom algorithm name to be displayed in plot legends. This mapping does not have to passed in to plotting functions and, if it isn't, the default behaviour will be to display uppercase versions of the algorithm names found in the dataset. "
   ]
  },
  {
   "cell_type": "code",
   "execution_count": 7,
   "metadata": {},
   "outputs": [],
   "source": [
    "# Import the data\n",
    "with open(\"results/json/ff_ippo/20250206195311/metrics.json\", \"r\") as data_file:\n",
    "    raw_data = json.load(data_file)\n",
    "\n",
    "\n",
    "# Choose the list of metrics to normalize\n",
    "METRICS_TO_NORMALIZE = [\"mean_return\"]\n",
    "\n",
    "# Call data_process_pipeline to normalize the chosen metrics and to clean the data\n",
    "processed_data = data_process_pipeline(\n",
    "    raw_data=raw_data, metrics_to_normalize=METRICS_TO_NORMALIZE\n",
    ")\n",
    "\n",
    "# Create a custom legend mapping dictionary\n",
    "LEGEND_MAP = {\n",
    "    \"algo_1\": \"Algorithm 1\",\n",
    "    \"algo_2\": \"Algorithm 2\",\n",
    "    # \"algo_3\": \"Algorithm 3\",\n",
    "    # \"algo_4\": \"Algorithm 4\",\n",
    "    # \"algo_5\": \"Algorithm 5\",\n",
    "}"
   ]
  },
  {
   "cell_type": "code",
   "execution_count": 8,
   "metadata": {},
   "outputs": [
    {
     "name": "stdout",
     "output_type": "stream",
     "text": [
      "The metrics used across the different steps, runs, algorithms                    and scenarios are not the same\n",
      "                    The overlapping metrics are :\n",
      " ['mean_return', 'steps_per_second']\n",
      "invalid format for the environment jaxparty!\n"
     ]
    },
    {
     "data": {
      "text/plain": [
       "{'jaxparty': {'valid_algorithms': True,\n",
       "  'valid_algorithm_names': True,\n",
       "  'valid_runs': True,\n",
       "  'valid_steps': True,\n",
       "  'valid_metrics': False}}"
      ]
     },
     "execution_count": 8,
     "metadata": {},
     "output_type": "execute_result"
    }
   ],
   "source": [
    "diag = DiagnoseData(raw_data)\n",
    "diag.check_data()"
   ]
  },
  {
   "cell_type": "markdown",
   "metadata": {},
   "source": [
    "Next we need to create two different dictionaries that will be used to create plots. To do this we will make use of the [`create_matrices_for_rliable`](https://github.com/instadeepai/marl-eval/blob/4856b06467872fd8b6f8a5db5fa7c9d7d55e2431/marl_eval/utils/data_processing_utils.py#L279) function. \n",
    "  \n",
    "  **a)  metric_dictionary_return:**\n",
    "\n",
    "  - The dictionary will have the names of all aggregated metrics as keys. Under each aggregated metric key there will be a 2D array corresponding to the mean of the normalised absolute metric values for each algorithm in a given experiment. \n",
    "\n",
    "  - These 2D arrays will have dimensions given as (number of runs x number of tasks). \n",
    "\n",
    "  **b)  final_metric_tensor_dictionary:**\n",
    "\n",
    "  - This dictionary will, similarly, have keys corresponding to the aggregated experiment metrics. Under each aggregated metric key there will now be a 3D array corresponding to the mean normalised metric at each evaluation step. \n",
    "\n",
    "  - These 3D arrays will have dimensions given as (number of runs x number of tasks x number of logging steps).\n",
    "\n",
    "The `create_matrices_for_rliable` function has 3 arguments which are:\n",
    "\n",
    "  - data_dictionary: The dictionary of processed data\n",
    "  \n",
    "  - environment_name: Name of environment for which the arrays should be computed.\n",
    "\n",
    "  - metrics_to_normalize: List of metric metric names that should be normalised."
   ]
  },
  {
   "cell_type": "code",
   "execution_count": 9,
   "metadata": {},
   "outputs": [],
   "source": [
    "environment_comparison_matrix, sample_effeciency_matrix = create_matrices_for_rliable(\n",
    "    data_dictionary=processed_data,\n",
    "    environment_name=\"jaxparty\",\n",
    "    metrics_to_normalize=METRICS_TO_NORMALIZE,\n",
    ")"
   ]
  },
  {
   "cell_type": "markdown",
   "metadata": {},
   "source": [
    "### 4. Use the `marl-eval` plotting tools\n",
    "\n",
    "We can now use the generated dictionaries to produce relevant aggregated plots. For more information on how each plot may be interpreted please see the [rliable repo](https://github.com/google-research/rliable). "
   ]
  },
  {
   "cell_type": "markdown",
   "metadata": {},
   "source": [
    "**a) `performance_profiles`**\n",
    "   - This function produces performance profile plots and has the following arguments: \n",
    "   \n",
    "      - dictionary: The `environment_comparison_matrix` constructed from the absolute metric data. \n",
    "      - metric_name: Name of metric for which to produce plots.\n",
    "      - metrics_to_normalize: List of metrics that have been normalised."
   ]
  },
  {
   "cell_type": "code",
   "execution_count": 10,
   "metadata": {},
   "outputs": [
    {
     "data": {
      "image/png": "[encoded data removed]",
      "text/plain": [
       "<Figure size 700x500 with 1 Axes>"
      ]
     },
     "metadata": {},
     "output_type": "display_data"
    }
   ],
   "source": [
    "fig = performance_profiles(\n",
    "    environment_comparison_matrix,\n",
    "    metric_name=\"return\",\n",
    "    metrics_to_normalize=METRICS_TO_NORMALIZE,\n",
    ")"
   ]
  },
  {
   "cell_type": "markdown",
   "metadata": {},
   "source": [
    "**b) `aggregate_scores`**\n",
    "   - This function produces plots of the median, inter-quartile mean, mean and optimality gap aggregated scores for each algorithm on a particular environment. Aside from the plots tabular data corresponding to each metric is also given in the terminal can can be saved in a `.csv` file and in LaTex format in a `.txt` file.\n",
    "   \n",
    "   - This function has to following arguments:\n",
    "      - dictionary: The `environment_comparison_matrix` constructed from the absolute metric data. \n",
    "      - metric_name: Name of metric for which to produce plots.\n",
    "      - metrics_to_normalize: List of metrics that have been normalised.\n",
    "      - rounding_decimals: Amount of decimal places up to which the tabular result values should be rounded to.\n",
    "      - tabular_results_file_path: Path where the tabular results should be stored.\n",
    "      - save_tabular_as_latex: Whether tabular results should be stored in LaTex format as well."
   ]
  },
  {
   "cell_type": "code",
   "execution_count": 12,
   "metadata": {},
   "outputs": [
    {
     "data": {
      "text/plain": [
       "{'mean_return': {'ff_ippo': array([[7354.17138672]])},\n",
       " 'mean_steps_per_second': {'ff_ippo': array([[104775.453125]])},\n",
       " 'mean_mean_return': {'ff_ippo': array([[7354.17138672]])},\n",
       " 'mean_norm_mean_return': {'ff_ippo': array([[1.]])}}"
      ]
     },
     "execution_count": 12,
     "metadata": {},
     "output_type": "execute_result"
    }
   ],
   "source": [
    "environment_comparison_matrix"
   ]
  },
  {
   "cell_type": "code",
   "execution_count": 11,
   "metadata": {},
   "outputs": [
    {
     "ename": "KeyError",
     "evalue": "'FF_IPPO'",
     "output_type": "error",
     "traceback": [
      "\u001b[0;31m---------------------------------------------------------------------------\u001b[0m",
      "\u001b[0;31mKeyError\u001b[0m                                  Traceback (most recent call last)",
      "Cell \u001b[0;32mIn[11], line 1\u001b[0m\n\u001b[0;32m----> 1\u001b[0m fig, _, _ \u001b[38;5;241m=\u001b[39m \u001b[43maggregate_scores\u001b[49m\u001b[43m(\u001b[49m\n\u001b[1;32m      2\u001b[0m \u001b[43m    \u001b[49m\u001b[43mdictionary\u001b[49m\u001b[38;5;241;43m=\u001b[39;49m\u001b[43menvironment_comparison_matrix\u001b[49m\u001b[43m,\u001b[49m\n\u001b[1;32m      3\u001b[0m \u001b[43m    \u001b[49m\u001b[43mmetric_name\u001b[49m\u001b[38;5;241;43m=\u001b[39;49m\u001b[38;5;124;43m\"\u001b[39;49m\u001b[38;5;124;43mreturn\u001b[39;49m\u001b[38;5;124;43m\"\u001b[39;49m\u001b[43m,\u001b[49m\n\u001b[1;32m      4\u001b[0m \u001b[43m    \u001b[49m\u001b[43mmetrics_to_normalize\u001b[49m\u001b[38;5;241;43m=\u001b[39;49m\u001b[43mMETRICS_TO_NORMALIZE\u001b[49m\u001b[43m,\u001b[49m\n\u001b[1;32m      5\u001b[0m \u001b[43m    \u001b[49m\u001b[43msave_tabular_as_latex\u001b[49m\u001b[38;5;241;43m=\u001b[39;49m\u001b[38;5;28;43;01mTrue\u001b[39;49;00m\u001b[43m,\u001b[49m\n\u001b[1;32m      6\u001b[0m \u001b[43m    \u001b[49m\u001b[43mlegend_map\u001b[49m\u001b[38;5;241;43m=\u001b[39;49m\u001b[43mLEGEND_MAP\u001b[49m\u001b[43m,\u001b[49m\n\u001b[1;32m      7\u001b[0m \u001b[43m)\u001b[49m\n",
      "File \u001b[0;32m~/.local/lib/python3.10/site-packages/marl_eval/plotting_tools/plotting.py:147\u001b[0m, in \u001b[0;36maggregate_scores\u001b[0;34m(dictionary, metric_name, metrics_to_normalize, rounding_decimals, tabular_results_file_path, save_tabular_as_latex, legend_map)\u001b[0m\n\u001b[1;32m    145\u001b[0m     legend_map \u001b[38;5;241m=\u001b[39m {algo\u001b[38;5;241m.\u001b[39mupper(): value \u001b[38;5;28;01mfor\u001b[39;00m algo, value \u001b[38;5;129;01min\u001b[39;00m legend_map\u001b[38;5;241m.\u001b[39mitems()}\n\u001b[1;32m    146\u001b[0m     \u001b[38;5;66;03m# Replace keys in data dict with corresponding key in legend map\u001b[39;00m\n\u001b[0;32m--> 147\u001b[0m     data_dictionary \u001b[38;5;241m=\u001b[39m {\n\u001b[1;32m    148\u001b[0m         legend_map[algo]: value \u001b[38;5;28;01mfor\u001b[39;00m algo, value \u001b[38;5;129;01min\u001b[39;00m data_dictionary\u001b[38;5;241m.\u001b[39mitems()\n\u001b[1;32m    149\u001b[0m     }\n\u001b[1;32m    150\u001b[0m     algorithms \u001b[38;5;241m=\u001b[39m \u001b[38;5;28mlist\u001b[39m(data_dictionary\u001b[38;5;241m.\u001b[39mkeys())\n\u001b[1;32m    152\u001b[0m aggregate_func \u001b[38;5;241m=\u001b[39m \u001b[38;5;28;01mlambda\u001b[39;00m x: np\u001b[38;5;241m.\u001b[39marray(  \u001b[38;5;66;03m# noqa: E731\u001b[39;00m\n\u001b[1;32m    153\u001b[0m     [\n\u001b[1;32m    154\u001b[0m         metrics\u001b[38;5;241m.\u001b[39maggregate_median(x),\n\u001b[0;32m   (...)\u001b[0m\n\u001b[1;32m    158\u001b[0m     ]\n\u001b[1;32m    159\u001b[0m )\n",
      "File \u001b[0;32m~/.local/lib/python3.10/site-packages/marl_eval/plotting_tools/plotting.py:148\u001b[0m, in \u001b[0;36m<dictcomp>\u001b[0;34m(.0)\u001b[0m\n\u001b[1;32m    145\u001b[0m     legend_map \u001b[38;5;241m=\u001b[39m {algo\u001b[38;5;241m.\u001b[39mupper(): value \u001b[38;5;28;01mfor\u001b[39;00m algo, value \u001b[38;5;129;01min\u001b[39;00m legend_map\u001b[38;5;241m.\u001b[39mitems()}\n\u001b[1;32m    146\u001b[0m     \u001b[38;5;66;03m# Replace keys in data dict with corresponding key in legend map\u001b[39;00m\n\u001b[1;32m    147\u001b[0m     data_dictionary \u001b[38;5;241m=\u001b[39m {\n\u001b[0;32m--> 148\u001b[0m         \u001b[43mlegend_map\u001b[49m\u001b[43m[\u001b[49m\u001b[43malgo\u001b[49m\u001b[43m]\u001b[49m: value \u001b[38;5;28;01mfor\u001b[39;00m algo, value \u001b[38;5;129;01min\u001b[39;00m data_dictionary\u001b[38;5;241m.\u001b[39mitems()\n\u001b[1;32m    149\u001b[0m     }\n\u001b[1;32m    150\u001b[0m     algorithms \u001b[38;5;241m=\u001b[39m \u001b[38;5;28mlist\u001b[39m(data_dictionary\u001b[38;5;241m.\u001b[39mkeys())\n\u001b[1;32m    152\u001b[0m aggregate_func \u001b[38;5;241m=\u001b[39m \u001b[38;5;28;01mlambda\u001b[39;00m x: np\u001b[38;5;241m.\u001b[39marray(  \u001b[38;5;66;03m# noqa: E731\u001b[39;00m\n\u001b[1;32m    153\u001b[0m     [\n\u001b[1;32m    154\u001b[0m         metrics\u001b[38;5;241m.\u001b[39maggregate_median(x),\n\u001b[0;32m   (...)\u001b[0m\n\u001b[1;32m    158\u001b[0m     ]\n\u001b[1;32m    159\u001b[0m )\n",
      "\u001b[0;31mKeyError\u001b[0m: 'FF_IPPO'"
     ]
    }
   ],
   "source": [
    "fig, _, _ = aggregate_scores(\n",
    "    dictionary=environment_comparison_matrix,\n",
    "    metric_name=\"return\",\n",
    "    metrics_to_normalize=METRICS_TO_NORMALIZE,\n",
    "    save_tabular_as_latex=True,\n",
    "    legend_map=LEGEND_MAP,\n",
    ")"
   ]
  },
  {
   "cell_type": "markdown",
   "metadata": {},
   "source": [
    "**C) `probability_of_improvement`**\n",
    "   - This function produces probability of improvement plots which may be interpreted as the probably that Algorithm X improves over Algorithm Y. \n",
    "   \n",
    "   - The function has the following arguments:\n",
    "      - dictionary: The `environment_comparison_matrix` constructed from the absolute metric data. \n",
    "      - metric_name: Name of metric for which to produce plots.\n",
    "      - metrics_to_normalize: List of metrics that have been normalised.\n",
    "      - algorithms_to_compare: A 2D list containing pairs of algorithms to be compared (e.g. `[[\"algo_1\", \"algo_2\"], [\"algo_1\", \"algo_3\"], [\"algo_2\", \"algo_3\"]]`)"
   ]
  },
  {
   "cell_type": "code",
   "execution_count": 7,
   "metadata": {},
   "outputs": [
    {
     "data": {
      "image/png": "[encoded data removed]",
      "text/plain": [
       "<Figure size 400x300 with 2 Axes>"
      ]
     },
     "metadata": {},
     "output_type": "display_data"
    }
   ],
   "source": [
    "fig = probability_of_improvement(\n",
    "    environment_comparison_matrix,\n",
    "    metric_name=\"success_rate\",\n",
    "    metrics_to_normalize=METRICS_TO_NORMALIZE,\n",
    "    algorithms_to_compare=[[\"algo_1\", \"algo_2\"], [\"algo_1\", \"algo_3\"], [\"algo_2\", \"algo_3\"]],\n",
    "    legend_map=LEGEND_MAP,\n",
    ")"
   ]
  },
  {
   "cell_type": "markdown",
   "metadata": {},
   "source": [
    "**d) `sample_efficiency_curves`**\n",
    "   - This function produces sample efficiency curve plots.\n",
    "   \n",
    "   - The function has the following arguments:\n",
    "     - dictionary: The `sample_effeciency_matrix` constructed from the raw experiment metric data. \n",
    "     - metric_name: Name of metric for which to produce plots.\n",
    "     - metrics_to_normalize: List of metrics that have been normalised."
   ]
  },
  {
   "cell_type": "code",
   "execution_count": 13,
   "metadata": {},
   "outputs": [
    {
     "ename": "KeyError",
     "evalue": "'mean_success_rate'",
     "output_type": "error",
     "traceback": [
      "\u001b[0;31m---------------------------------------------------------------------------\u001b[0m",
      "\u001b[0;31mKeyError\u001b[0m                                  Traceback (most recent call last)",
      "Cell \u001b[0;32mIn[13], line 1\u001b[0m\n\u001b[0;32m----> 1\u001b[0m fig, _, _ \u001b[38;5;241m=\u001b[39m \u001b[43msample_efficiency_curves\u001b[49m\u001b[43m(\u001b[49m\n\u001b[1;32m      2\u001b[0m \u001b[43m    \u001b[49m\u001b[43mdictionary\u001b[49m\u001b[38;5;241;43m=\u001b[39;49m\u001b[43msample_effeciency_matrix\u001b[49m\u001b[43m,\u001b[49m\n\u001b[1;32m      3\u001b[0m \u001b[43m    \u001b[49m\u001b[43mmetric_name\u001b[49m\u001b[38;5;241;43m=\u001b[39;49m\u001b[38;5;124;43m\"\u001b[39;49m\u001b[38;5;124;43msuccess_rate\u001b[39;49m\u001b[38;5;124;43m\"\u001b[39;49m\u001b[43m,\u001b[49m\n\u001b[1;32m      4\u001b[0m \u001b[43m    \u001b[49m\u001b[43mmetrics_to_normalize\u001b[49m\u001b[38;5;241;43m=\u001b[39;49m\u001b[43mMETRICS_TO_NORMALIZE\u001b[49m\u001b[43m,\u001b[49m\n\u001b[1;32m      5\u001b[0m \u001b[43m)\u001b[49m\n",
      "File \u001b[0;32m~/.local/lib/python3.10/site-packages/marl_eval/plotting_tools/plotting.py:342\u001b[0m, in \u001b[0;36msample_efficiency_curves\u001b[0;34m(dictionary, metric_name, metrics_to_normalize, legend_map, xlabel)\u001b[0m\n\u001b[1;32m    340\u001b[0m     ylabel \u001b[38;5;241m=\u001b[39m \u001b[38;5;124m\"\u001b[39m\u001b[38;5;124mNormalized \u001b[39m\u001b[38;5;124m\"\u001b[39m \u001b[38;5;241m+\u001b[39m \u001b[38;5;124m\"\u001b[39m\u001b[38;5;124m \u001b[39m\u001b[38;5;124m\"\u001b[39m\u001b[38;5;241m.\u001b[39mjoin(metric_name\u001b[38;5;241m.\u001b[39msplit(\u001b[38;5;124m\"\u001b[39m\u001b[38;5;124m_\u001b[39m\u001b[38;5;124m\"\u001b[39m))\n\u001b[1;32m    341\u001b[0m \u001b[38;5;28;01melse\u001b[39;00m:\n\u001b[0;32m--> 342\u001b[0m     data_dictionary \u001b[38;5;241m=\u001b[39m \u001b[43mdictionary\u001b[49m\u001b[43m[\u001b[49m\u001b[38;5;124;43mf\u001b[39;49m\u001b[38;5;124;43m\"\u001b[39;49m\u001b[38;5;124;43mmean_\u001b[39;49m\u001b[38;5;132;43;01m{\u001b[39;49;00m\u001b[43mmetric_name\u001b[49m\u001b[38;5;132;43;01m}\u001b[39;49;00m\u001b[38;5;124;43m\"\u001b[39;49m\u001b[43m]\u001b[49m\n\u001b[1;32m    343\u001b[0m     ylabel \u001b[38;5;241m=\u001b[39m \u001b[38;5;124m\"\u001b[39m\u001b[38;5;124m \u001b[39m\u001b[38;5;124m\"\u001b[39m\u001b[38;5;241m.\u001b[39mjoin(metric_name\u001b[38;5;241m.\u001b[39msplit(\u001b[38;5;124m\"\u001b[39m\u001b[38;5;124m_\u001b[39m\u001b[38;5;124m\"\u001b[39m))\u001b[38;5;241m.\u001b[39mcapitalize()\n\u001b[1;32m    345\u001b[0m \u001b[38;5;66;03m# Upper case all algorithm names\u001b[39;00m\n",
      "\u001b[0;31mKeyError\u001b[0m: 'mean_success_rate'"
     ]
    }
   ],
   "source": [
    "fig, _, _ = sample_efficiency_curves(\n",
    "    dictionary=sample_effeciency_matrix,\n",
    "    metric_name=\"success_rate\",\n",
    "    metrics_to_normalize=METRICS_TO_NORMALIZE,\n",
    ")"
   ]
  },
  {
   "cell_type": "markdown",
   "metadata": {},
   "source": [
    "**e) `plot_single_task`**\n",
    "   - This function will aggregate and plot experiment data for all algorithms on a given task in an environment. Each plotting point is the mean over all independent experiment runs while the error is given by the 95% confidence interval. \n",
    "   \n",
    "   - The function has the following arguments:\n",
    "      - processed_data: The processed experiment data generated using the `data_process_pipeline`.\n",
    "      - environment_name: The name of the environment for which to aggregate results. \n",
    "      - task_name: The name of the task for which to aggregate results. \n",
    "      - metric_name: Name of metric for which to produce plots.\n",
    "      - metrics_to_normalize: List of metrics that have been normalised."
   ]
  },
  {
   "cell_type": "code",
   "execution_count": 14,
   "metadata": {},
   "outputs": [
    {
     "ename": "KeyError",
     "evalue": "'env_1'",
     "output_type": "error",
     "traceback": [
      "\u001b[0;31m---------------------------------------------------------------------------\u001b[0m",
      "\u001b[0;31mKeyError\u001b[0m                                  Traceback (most recent call last)",
      "Cell \u001b[0;32mIn[14], line 3\u001b[0m\n\u001b[1;32m      1\u001b[0m \u001b[38;5;66;03m# Aggregate data over a single task\u001b[39;00m\n\u001b[1;32m      2\u001b[0m task \u001b[38;5;241m=\u001b[39m \u001b[38;5;124m\"\u001b[39m\u001b[38;5;124mtask_1\u001b[39m\u001b[38;5;124m\"\u001b[39m\n\u001b[0;32m----> 3\u001b[0m fig \u001b[38;5;241m=\u001b[39m \u001b[43mplot_single_task\u001b[49m\u001b[43m(\u001b[49m\n\u001b[1;32m      4\u001b[0m \u001b[43m    \u001b[49m\u001b[43mprocessed_data\u001b[49m\u001b[38;5;241;43m=\u001b[39;49m\u001b[43mprocessed_data\u001b[49m\u001b[43m,\u001b[49m\n\u001b[1;32m      5\u001b[0m \u001b[43m    \u001b[49m\u001b[43menvironment_name\u001b[49m\u001b[38;5;241;43m=\u001b[39;49m\u001b[38;5;124;43m\"\u001b[39;49m\u001b[38;5;124;43menv_1\u001b[39;49m\u001b[38;5;124;43m\"\u001b[39;49m\u001b[43m,\u001b[49m\n\u001b[1;32m      6\u001b[0m \u001b[43m    \u001b[49m\u001b[43mtask_name\u001b[49m\u001b[38;5;241;43m=\u001b[39;49m\u001b[43mtask\u001b[49m\u001b[43m,\u001b[49m\n\u001b[1;32m      7\u001b[0m \u001b[43m    \u001b[49m\u001b[43mmetric_name\u001b[49m\u001b[38;5;241;43m=\u001b[39;49m\u001b[38;5;124;43m\"\u001b[39;49m\u001b[38;5;124;43mreturn\u001b[39;49m\u001b[38;5;124;43m\"\u001b[39;49m\u001b[43m,\u001b[49m\n\u001b[1;32m      8\u001b[0m \u001b[43m    \u001b[49m\u001b[43mmetrics_to_normalize\u001b[49m\u001b[38;5;241;43m=\u001b[39;49m\u001b[43mMETRICS_TO_NORMALIZE\u001b[49m\u001b[43m,\u001b[49m\n\u001b[1;32m      9\u001b[0m \u001b[43m)\u001b[49m\n",
      "File \u001b[0;32m~/.local/lib/python3.10/site-packages/marl_eval/plotting_tools/plotting.py:423\u001b[0m, in \u001b[0;36mplot_single_task\u001b[0;34m(processed_data, environment_name, task_name, metric_name, metrics_to_normalize, xlabel, legend_map, run_times)\u001b[0m\n\u001b[1;32m    405\u001b[0m \u001b[38;5;250m\u001b[39m\u001b[38;5;124;03m\"\"\"Produces aggregated plot for a single task in an environment.\u001b[39;00m\n\u001b[1;32m    406\u001b[0m \n\u001b[1;32m    407\u001b[0m \u001b[38;5;124;03mArgs:\u001b[39;00m\n\u001b[0;32m   (...)\u001b[0m\n\u001b[1;32m    417\u001b[0m \u001b[38;5;124;03m        took to run. If None, then environment steps will be displayed.\u001b[39;00m\n\u001b[1;32m    418\u001b[0m \u001b[38;5;124;03m\"\"\"\u001b[39;00m\n\u001b[1;32m    419\u001b[0m metric_name, task_name, environment_name, metrics_to_normalize \u001b[38;5;241m=\u001b[39m lower_case_inputs(\n\u001b[1;32m    420\u001b[0m     metric_name, task_name, environment_name, metrics_to_normalize\n\u001b[1;32m    421\u001b[0m )\n\u001b[0;32m--> 423\u001b[0m task_mean_ci_data \u001b[38;5;241m=\u001b[39m \u001b[43mget_and_aggregate_data_single_task\u001b[49m\u001b[43m(\u001b[49m\n\u001b[1;32m    424\u001b[0m \u001b[43m    \u001b[49m\u001b[43mprocessed_data\u001b[49m\u001b[38;5;241;43m=\u001b[39;49m\u001b[43mprocessed_data\u001b[49m\u001b[43m,\u001b[49m\n\u001b[1;32m    425\u001b[0m \u001b[43m    \u001b[49m\u001b[43menvironment_name\u001b[49m\u001b[38;5;241;43m=\u001b[39;49m\u001b[43menvironment_name\u001b[49m\u001b[43m,\u001b[49m\n\u001b[1;32m    426\u001b[0m \u001b[43m    \u001b[49m\u001b[43mmetric_name\u001b[49m\u001b[38;5;241;43m=\u001b[39;49m\u001b[43mmetric_name\u001b[49m\u001b[43m,\u001b[49m\n\u001b[1;32m    427\u001b[0m \u001b[43m    \u001b[49m\u001b[43mtask_name\u001b[49m\u001b[38;5;241;43m=\u001b[39;49m\u001b[43mtask_name\u001b[49m\u001b[43m,\u001b[49m\n\u001b[1;32m    428\u001b[0m \u001b[43m    \u001b[49m\u001b[43mmetrics_to_normalize\u001b[49m\u001b[38;5;241;43m=\u001b[39;49m\u001b[43mmetrics_to_normalize\u001b[49m\u001b[43m,\u001b[49m\n\u001b[1;32m    429\u001b[0m \u001b[43m\u001b[49m\u001b[43m)\u001b[49m\n\u001b[1;32m    431\u001b[0m \u001b[38;5;28;01mif\u001b[39;00m metric_name \u001b[38;5;129;01min\u001b[39;00m metrics_to_normalize:\n\u001b[1;32m    432\u001b[0m     ylabel \u001b[38;5;241m=\u001b[39m \u001b[38;5;124m\"\u001b[39m\u001b[38;5;124mNormalized \u001b[39m\u001b[38;5;124m\"\u001b[39m \u001b[38;5;241m+\u001b[39m \u001b[38;5;124m\"\u001b[39m\u001b[38;5;124m \u001b[39m\u001b[38;5;124m\"\u001b[39m\u001b[38;5;241m.\u001b[39mjoin(metric_name\u001b[38;5;241m.\u001b[39msplit(\u001b[38;5;124m\"\u001b[39m\u001b[38;5;124m_\u001b[39m\u001b[38;5;124m\"\u001b[39m))\n",
      "File \u001b[0;32m~/.local/lib/python3.10/site-packages/marl_eval/utils/data_processing_utils.py:117\u001b[0m, in \u001b[0;36mget_and_aggregate_data_single_task\u001b[0;34m(processed_data, metric_name, metrics_to_normalize, task_name, environment_name)\u001b[0m\n\u001b[1;32m    114\u001b[0m     metric_to_find \u001b[38;5;241m=\u001b[39m \u001b[38;5;124mf\u001b[39m\u001b[38;5;124m\"\u001b[39m\u001b[38;5;124mmean_\u001b[39m\u001b[38;5;132;01m{\u001b[39;00mmetric_name\u001b[38;5;132;01m}\u001b[39;00m\u001b[38;5;124m\"\u001b[39m\n\u001b[1;32m    116\u001b[0m \u001b[38;5;66;03m# Get the data for the given metric and environment\u001b[39;00m\n\u001b[0;32m--> 117\u001b[0m task_data \u001b[38;5;241m=\u001b[39m \u001b[43mprocessed_data\u001b[49m\u001b[43m[\u001b[49m\u001b[43menvironment_name\u001b[49m\u001b[43m]\u001b[49m[task_name]\n\u001b[1;32m    119\u001b[0m \u001b[38;5;66;03m# Get the algorithm names, number of runs and total steps\u001b[39;00m\n\u001b[1;32m    120\u001b[0m algorithms \u001b[38;5;241m=\u001b[39m \u001b[38;5;28mlist\u001b[39m(task_data\u001b[38;5;241m.\u001b[39mkeys())\n",
      "\u001b[0;31mKeyError\u001b[0m: 'env_1'"
     ]
    }
   ],
   "source": [
    "# Aggregate data over a single task\n",
    "task = \"task_1\"\n",
    "fig = plot_single_task(\n",
    "    processed_data=processed_data,\n",
    "    environment_name=\"env_1\",\n",
    "    task_name=task,\n",
    "    metric_name=\"return\",\n",
    "    metrics_to_normalize=METRICS_TO_NORMALIZE,\n",
    ")"
   ]
  },
  {
   "cell_type": "code",
   "execution_count": null,
   "metadata": {},
   "outputs": [],
   "source": []
  }
 ],
 "metadata": {
  "kernelspec": {
   "display_name": "Python 3",
   "language": "python",
   "name": "python3"
  },
  "language_info": {
   "codemirror_mode": {
    "name": "ipython",
    "version": 3
   },
   "file_extension": ".py",
   "mimetype": "text/x-python",
   "name": "python",
   "nbconvert_exporter": "python",
   "pygments_lexer": "ipython3",
   "version": "3.10.12"
  },
  "orig_nbformat": 4
 },
 "nbformat": 4,
 "nbformat_minor": 2
}
