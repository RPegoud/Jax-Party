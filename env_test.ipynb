{
 "cells": [
  {
   "cell_type": "code",
   "execution_count": 1,
   "metadata": {},
   "outputs": [
    {
     "name": "stderr",
     "output_type": "stream",
     "text": [
      "An NVIDIA GPU may be present on this machine, but a CUDA-enabled jaxlib is not installed. Falling back to cpu.\n",
      "/home/ryanp/.local/lib/python3.10/site-packages/tqdm/auto.py:21: TqdmWarning: IProgress not found. Please update jupyter and ipywidgets. See https://ipywidgets.readthedocs.io/en/stable/user_install.html\n",
      "  from .autonotebook import tqdm as notebook_tqdm\n"
     ]
    }
   ],
   "source": [
    "from typing import Optional, Sequence, Tuple\n",
    "from jax_party.env import JaxParty, PartyGenerator\n",
    "from jax_party.env_types import Action\n",
    "\n",
    "import jax\n",
    "import jax.numpy as jnp\n",
    "import chex\n",
    "import itertools\n",
    "from jax_party.utils import tree_slice"
   ]
  },
  {
   "cell_type": "code",
   "execution_count": 2,
   "metadata": {},
   "outputs": [],
   "source": [
    "from abc import ABC, abstractmethod\n",
    "from functools import cached_property\n",
    "from typing import Tuple, Union\n",
    "from mava.types import Observation, ObservationGlobalState, State\n",
    "from jumanji.env import Environment\n",
    "from jumanji.wrappers import Wrapper\n",
    "from jumanji.types import TimeStep\n",
    "from jumanji import specs\n",
    "\n",
    "\n",
    "class JumanjiMarlWrapper(Wrapper, ABC):\n",
    "    def __init__(self, env: Environment, add_global_state: bool):\n",
    "        self.add_global_state = add_global_state\n",
    "        super().__init__(env)\n",
    "        self.num_agents = self._env.num_agents\n",
    "        self.time_limit = self._env.time_limit\n",
    "\n",
    "    @abstractmethod\n",
    "    def modify_timestep(self, timestep: TimeStep) -> TimeStep[Observation]:\n",
    "        \"\"\"Modify the timestep for `step` and `reset`.\"\"\"\n",
    "        pass\n",
    "\n",
    "    def get_global_state(self, obs: Observation) -> chex.Array:\n",
    "        \"\"\"The default way to create a global state for an environment if it has no\n",
    "        available global state - concatenate all observations.\n",
    "        \"\"\"\n",
    "        global_state = jnp.concatenate(obs.agents_view, axis=0)\n",
    "        global_state = jnp.tile(global_state, (self._env.num_agents, 1))\n",
    "        return global_state\n",
    "\n",
    "    def reset(self, key: chex.PRNGKey) -> Tuple[State, TimeStep]:\n",
    "        \"\"\"Reset the environment.\"\"\"\n",
    "        state, timestep = self._env.reset(key)\n",
    "        timestep = self.modify_timestep(timestep)\n",
    "        if self.add_global_state:\n",
    "            global_state = self.get_global_state(timestep.observation)\n",
    "            observation = ObservationGlobalState(\n",
    "                global_state=global_state,\n",
    "                agents_view=timestep.observation.agents_view,\n",
    "                action_mask=timestep.observation.action_mask,\n",
    "                step_count=timestep.observation.step_count,\n",
    "            )\n",
    "            return state, timestep.replace(observation=observation)\n",
    "\n",
    "        return state, timestep\n",
    "\n",
    "    def step(self, state: State, action: chex.Array) -> Tuple[State, TimeStep]:\n",
    "        \"\"\"Step the environment.\"\"\"\n",
    "        state, timestep = self._env.step(state, action)\n",
    "        timestep = self.modify_timestep(timestep)\n",
    "        if self.add_global_state:\n",
    "            global_state = self.get_global_state(timestep.observation)\n",
    "            observation = ObservationGlobalState(\n",
    "                global_state=global_state,\n",
    "                agents_view=timestep.observation.agents_view,\n",
    "                action_mask=timestep.observation.action_mask,\n",
    "                step_count=timestep.observation.step_count,\n",
    "            )\n",
    "            return state, timestep.replace(observation=observation)\n",
    "\n",
    "        return state, timestep\n",
    "\n",
    "    @cached_property\n",
    "    def observation_spec(\n",
    "        self,\n",
    "    ) -> specs.Spec[Union[Observation, ObservationGlobalState]]:\n",
    "        \"\"\"Specification of the observation of the environment.\"\"\"\n",
    "        step_count = specs.BoundedArray(\n",
    "            (self.num_agents,),\n",
    "            int,\n",
    "            jnp.zeros(self.num_agents, dtype=int),\n",
    "            jnp.repeat(self.time_limit, self.num_agents),\n",
    "            \"step_count\",\n",
    "        )\n",
    "\n",
    "        obs_spec = self._env.observation_spec\n",
    "        obs_data = {\n",
    "            \"agents_view\": obs_spec.agents_view,\n",
    "            \"action_mask\": obs_spec.action_mask,\n",
    "            \"step_count\": step_count,\n",
    "        }\n",
    "\n",
    "        if self.add_global_state:\n",
    "            num_obs_features = obs_spec.agents_view.shape[-1]\n",
    "            global_state = specs.Array(\n",
    "                (self._env.num_agents, self._env.num_agents * num_obs_features),\n",
    "                obs_spec.agents_view.dtype,\n",
    "                \"global_state\",\n",
    "            )\n",
    "            obs_data[\"global_state\"] = global_state\n",
    "            return specs.Spec(ObservationGlobalState, \"ObservationSpec\", **obs_data)\n",
    "\n",
    "        return specs.Spec(Observation, \"ObservationSpec\", **obs_data)\n",
    "\n",
    "    @cached_property\n",
    "    def action_dim(self) -> chex.Array:\n",
    "        \"\"\"Get the actions dim for each agent.\"\"\"\n",
    "        return int(self._env.action_spec.num_values[0])\n",
    "\n",
    "\n",
    "class PartyMARLWrapper(JumanjiMarlWrapper):\n",
    "    def __init__(self, env: JaxParty, add_global_state: bool = False):\n",
    "        super().__init__(env, add_global_state)\n",
    "        self._env: JaxParty\n",
    "\n",
    "    def modify_timestep(self, timestep: TimeStep) -> TimeStep[Observation]:\n",
    "        \"\"\"Modify the timestep for `step` and `reset`.\"\"\"\n",
    "        return timestep"
   ]
  },
  {
   "cell_type": "code",
   "execution_count": 12,
   "metadata": {},
   "outputs": [
    {
     "name": "stdout",
     "output_type": "stream",
     "text": [
      "active_agents [0 1 1]\n",
      "actions [0 1 2]\n",
      "corrected actions [0 1 2]\n",
      "[0. 0. 5.] [2 0 1]\n",
      "------------------------------\n",
      "active_agents [1 1 0]\n",
      "actions [0 2 1]\n",
      "corrected actions [0 2 0]\n",
      "[-1.  5.  5.] [1 2 0]\n",
      "------------------------------\n",
      "active_agents [1 0 1]\n",
      "actions [1 0 2]\n",
      "corrected actions [1 0 2]\n",
      "[-1.  5. 10.] [2 1 0]\n",
      "------------------------------\n",
      "active_agents [0 1 1]\n",
      "actions [1 2 0]\n",
      "corrected actions [0 2 0]\n",
      "[-1. 10.  9.] [1 2 0]\n",
      "------------------------------\n",
      "active_agents [1 0 1]\n",
      "actions [2 0 1]\n",
      "corrected actions [2 0 1]\n",
      "[ 4. 10.  9.] [1 2 0]\n",
      "------------------------------\n",
      "active_agents [1 1 0]\n",
      "actions [2 1 0]\n",
      "corrected actions [2 1 0]\n",
      "[ 9. 10.  9.] [1 0 2]\n",
      "------------------------------\n"
     ]
    }
   ],
   "source": [
    "env = JaxParty(generator=PartyGenerator, time_limit=4000)\n",
    "env = PartyMARLWrapper(env)\n",
    "\n",
    "key = jax.random.PRNGKey(0)\n",
    "state, timestep = env.reset(key)\n",
    "\n",
    "for actions in jnp.array(list(itertools.permutations([0, 1, 2]))):\n",
    "    print(\"active_agents\", state.active_agents)\n",
    "    print(\"actions\", actions)\n",
    "    actions = env._get_valid_actions(actions, state.action_mask)\n",
    "    print(\"corrected actions\", actions)\n",
    "    state, timestep = env.step(state, actions)\n",
    "    print(state.cumulative_rewards, state.ranking)\n",
    "    print(\"-\" * 30)"
   ]
  },
  {
   "cell_type": "code",
   "execution_count": 10,
   "metadata": {},
   "outputs": [
    {
     "data": {
      "text/plain": [
       "Observation(agents_view=Array([False, False, False], dtype=bool), action_mask=Array([False, False, False], dtype=bool), step_count=Array([0, 0, 0], dtype=int32))"
      ]
     },
     "execution_count": 10,
     "metadata": {},
     "output_type": "execute_result"
    }
   ],
   "source": [
    "env.observation_spec.generate_value()"
   ]
  }
 ],
 "metadata": {
  "kernelspec": {
   "display_name": "Python 3",
   "language": "python",
   "name": "python3"
  },
  "language_info": {
   "codemirror_mode": {
    "name": "ipython",
    "version": 3
   },
   "file_extension": ".py",
   "mimetype": "text/x-python",
   "name": "python",
   "nbconvert_exporter": "python",
   "pygments_lexer": "ipython3",
   "version": "3.10.12"
  }
 },
 "nbformat": 4,
 "nbformat_minor": 2
}
