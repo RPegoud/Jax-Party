{
 "cells": [
  {
   "cell_type": "code",
   "execution_count": 1,
   "metadata": {},
   "outputs": [
    {
     "name": "stderr",
     "output_type": "stream",
     "text": [
      "WARNING:2025-01-21 13:19:20,723:jax._src.xla_bridge:987: An NVIDIA GPU may be present on this machine, but a CUDA-enabled jaxlib is not installed. Falling back to cpu.\n",
      "/home/ryanp/.local/lib/python3.10/site-packages/tqdm/auto.py:21: TqdmWarning: IProgress not found. Please update jupyter and ipywidgets. See https://ipywidgets.readthedocs.io/en/stable/user_install.html\n",
      "  from .autonotebook import tqdm as notebook_tqdm\n"
     ]
    }
   ],
   "source": [
    "from typing import Optional, Sequence, Tuple\n",
    "from jax_party.env import PartyEnvironment\n",
    "from jax_party.env_types import Action\n",
    "\n",
    "import jax\n",
    "import jax.numpy as jnp\n",
    "import chex\n",
    "import itertools\n",
    "from jax_party.utils import tree_slice"
   ]
  },
  {
   "cell_type": "code",
   "execution_count": 5,
   "metadata": {},
   "outputs": [
    {
     "name": "stdout",
     "output_type": "stream",
     "text": [
      "active_agents [1 0 1]\n",
      "actions [0 1 2]\n",
      "corrected actions [0 0 2]\n",
      "[-1.  0.  5.] [2 1 0]\n",
      "------------------------------\n",
      "active_agents [1 0 1]\n",
      "actions [0 2 1]\n",
      "corrected actions [0 0 1]\n",
      "[-2.  0.  8.] [2 1 0]\n",
      "------------------------------\n",
      "active_agents [1 1 0]\n",
      "actions [1 0 2]\n",
      "corrected actions [1 0 0]\n",
      "[ 1. -1.  8.] [2 0 1]\n",
      "------------------------------\n",
      "active_agents [1 0 1]\n",
      "actions [1 2 0]\n",
      "corrected actions [1 0 0]\n",
      "[ 4. -1.  7.] [2 0 1]\n",
      "------------------------------\n",
      "active_agents [1 0 1]\n",
      "actions [2 0 1]\n",
      "corrected actions [2 0 1]\n",
      "[ 9. -1.  7.] [0 2 1]\n",
      "------------------------------\n",
      "active_agents [0 1 1]\n",
      "actions [2 1 0]\n",
      "corrected actions [0 1 0]\n",
      "[9. 2. 6.] [0 2 1]\n",
      "------------------------------\n"
     ]
    }
   ],
   "source": [
    "env = PartyEnvironment(1000)\n",
    "\n",
    "key = jax.random.PRNGKey(0)\n",
    "state, timestep = env.reset(key)\n",
    "\n",
    "for actions in jnp.array(list(itertools.permutations([0, 1, 2]))):\n",
    "    print(\"active_agents\", state.active_agents)\n",
    "    print(\"actions\", actions)\n",
    "    actions = env._get_valid_actions(actions, state.action_mask)\n",
    "    print(\"corrected actions\", actions)\n",
    "    state, timestep = env.step(state, actions)\n",
    "    print(state.cumulative_rewards, state.ranking)\n",
    "    print(\"-\" * 30)"
   ]
  }
 ],
 "metadata": {
  "kernelspec": {
   "display_name": "Python 3",
   "language": "python",
   "name": "python3"
  },
  "language_info": {
   "codemirror_mode": {
    "name": "ipython",
    "version": 3
   },
   "file_extension": ".py",
   "mimetype": "text/x-python",
   "name": "python",
   "nbconvert_exporter": "python",
   "pygments_lexer": "ipython3",
   "version": "3.10.12"
  }
 },
 "nbformat": 4,
 "nbformat_minor": 2
}
