{
 "cells": [
  {
   "cell_type": "code",
   "execution_count": 1,
   "metadata": {},
   "outputs": [
    {
     "name": "stderr",
     "output_type": "stream",
     "text": [
      "An NVIDIA GPU may be present on this machine, but a CUDA-enabled jaxlib is not installed. Falling back to cpu.\n",
      "/home/ryanp/.local/lib/python3.10/site-packages/tqdm/auto.py:21: TqdmWarning: IProgress not found. Please update jupyter and ipywidgets. See https://ipywidgets.readthedocs.io/en/stable/user_install.html\n",
      "  from .autonotebook import tqdm as notebook_tqdm\n"
     ]
    }
   ],
   "source": [
    "import jax\n",
    "import jax.numpy as jnp\n",
    "import chex\n",
    "from functools import partial\n",
    "from utils import tree_slice\n",
    "from ipd_squared import IPDSquaredGenerator, IPDSquared"
   ]
  },
  {
   "cell_type": "code",
   "execution_count": 2,
   "metadata": {},
   "outputs": [],
   "source": [
    "def unpack(state) -> None:\n",
    "    for k,t in list(zip(state.keys(), state.to_tuple())):\n",
    "        print(k)\n",
    "        print(t)\n",
    "        print(\"\\n\")"
   ]
  },
  {
   "cell_type": "code",
   "execution_count": 3,
   "metadata": {},
   "outputs": [],
   "source": [
    "key = jax.random.key(0)"
   ]
  },
  {
   "cell_type": "code",
   "execution_count": 16,
   "metadata": {},
   "outputs": [],
   "source": [
    "generator = IPDSquaredGenerator()\n",
    "env_config = {\n",
    "    \"epsilon_min\": -0.1,\n",
    "    \"epsilon_max\": 0.1,\n",
    "    \"scaling_factor\": 100,\n",
    "}\n",
    "env = IPDSquared(generator, **env_config)\n",
    "state, timestep = env.reset(key)\n",
    "# unpack(state)\n",
    "# unpack(timestep)"
   ]
  },
  {
   "cell_type": "code",
   "execution_count": 17,
   "metadata": {},
   "outputs": [
    {
     "data": {
      "text/plain": [
       "Array([[-0.01531014,  0.01531014],\n",
       "       [ 0.04016557, -0.04016557]], dtype=float32)"
      ]
     },
     "execution_count": 17,
     "metadata": {},
     "output_type": "execute_result"
    }
   ],
   "source": [
    "inner_actions = jnp.array([0,1,0,1])\n",
    "\n",
    "inner_actions = inner_actions.reshape(2,2)\n",
    "\n",
    "next_key, epsilon_key = jax.random.split(state.key, num=2)\n",
    "epsilons = jax.random.uniform(\n",
    "    epsilon_key, (2, 1), minval=env.epsilon_min, maxval=env.epsilon_max\n",
    ")\n",
    "epsilons = epsilons * jnp.array([-1, 1])\n",
    "\n",
    "epsilons"
   ]
  },
  {
   "cell_type": "code",
   "execution_count": null,
   "metadata": {},
   "outputs": [
    {
     "name": "stdout",
     "output_type": "stream",
     "text": [
      "[[0.5 0.5]\n",
      " [0.5 0.5]]\n",
      "[[0.4923455 0.5076545]\n",
      " [0.520072  0.479928 ]]\n"
     ]
    }
   ],
   "source": [
    "print(state.power)\n",
    "power = jax.nn.softmax(state.power + epsilons, axis=-1)\n",
    "print(power)"
   ]
  },
  {
   "cell_type": "code",
   "execution_count": 20,
   "metadata": {},
   "outputs": [
    {
     "name": "stdout",
     "output_type": "stream",
     "text": [
      "[[1]\n",
      " [0]]\n"
     ]
    }
   ],
   "source": [
    "outer_actions = jnp.take_along_axis(\n",
    "    inner_actions, jnp.argmax(power, axis=-1, keepdims=True), axis=-1\n",
    ")\n",
    "print(outer_actions)"
   ]
  },
  {
   "cell_type": "code",
   "execution_count": 21,
   "metadata": {},
   "outputs": [
    {
     "name": "stdout",
     "output_type": "stream",
     "text": [
      "[[ 4]\n",
      " [-4]]\n"
     ]
    }
   ],
   "source": [
    "outer_payoffs = jnp.array([\n",
    "    env.PAYOFF_MATRIX[outer_actions[0], outer_actions[1]],\n",
    "    env.PAYOFF_MATRIX[outer_actions[1], outer_actions[0]],\n",
    "])\n",
    "print(outer_payoffs)"
   ]
  },
  {
   "cell_type": "code",
   "execution_count": 22,
   "metadata": {},
   "outputs": [
    {
     "name": "stdout",
     "output_type": "stream",
     "text": [
      "[[0.4923455 0.5076545]\n",
      " [0.520072  0.479928 ]]\n",
      "[[0.45234552 0.5476545 ]\n",
      " [0.480072   0.519928  ]]\n"
     ]
    }
   ],
   "source": [
    "print(power)\n",
    "power = jax.vmap(env._update_power)(power, inner_actions, outer_payoffs).squeeze()\n",
    "print(power)"
   ]
  },
  {
   "cell_type": "code",
   "execution_count": 24,
   "metadata": {},
   "outputs": [
    {
     "data": {
      "text/plain": [
       "(Array([ 1.8093821,  2.190618 , -1.920288 , -2.079712 ], dtype=float32),\n",
       " Array([[0, 1, 0, 1],\n",
       "        [0, 1, 0, 1],\n",
       "        [0, 1, 0, 1],\n",
       "        [0, 1, 0, 1]], dtype=int32))"
      ]
     },
     "execution_count": 24,
     "metadata": {},
     "output_type": "execute_result"
    }
   ],
   "source": [
    "rewards = (power * outer_payoffs).flatten()\n",
    "\n",
    "history = jnp.tile(inner_actions.flatten(), (env.num_agents, 1))\n",
    "\n",
    "steps = state.step_count + 1\n",
    "done = steps >= env.time_limit\n",
    "\n",
    "rewards, history"
   ]
  }
 ],
 "metadata": {
  "kernelspec": {
   "display_name": "Python 3",
   "language": "python",
   "name": "python3"
  },
  "language_info": {
   "codemirror_mode": {
    "name": "ipython",
    "version": 3
   },
   "file_extension": ".py",
   "mimetype": "text/x-python",
   "name": "python",
   "nbconvert_exporter": "python",
   "pygments_lexer": "ipython3",
   "version": "3.10.12"
  }
 },
 "nbformat": 4,
 "nbformat_minor": 2
}
