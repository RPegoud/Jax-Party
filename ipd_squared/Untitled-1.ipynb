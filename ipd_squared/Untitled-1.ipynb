{
 "cells": [
  {
   "cell_type": "code",
   "execution_count": 65,
   "metadata": {},
   "outputs": [],
   "source": [
    "import jax\n",
    "import jax.numpy as jnp\n",
    "import chex\n",
    "from functools import partial\n",
    "from utils import tree_slice\n",
    "from ipd_squared import IPDSquaredGenerator, IPDSquared"
   ]
  },
  {
   "cell_type": "code",
   "execution_count": 66,
   "metadata": {},
   "outputs": [],
   "source": [
    "def unpack(state) -> None:\n",
    "    for k,t in list(zip(state.keys(), state.to_tuple())):\n",
    "        print(k)\n",
    "        print(t)\n",
    "        print(\"\\n\")"
   ]
  },
  {
   "cell_type": "code",
   "execution_count": 67,
   "metadata": {},
   "outputs": [],
   "source": [
    "key = jax.random.key(0)"
   ]
  },
  {
   "cell_type": "code",
   "execution_count": 68,
   "metadata": {},
   "outputs": [
    {
     "name": "stdout",
     "output_type": "stream",
     "text": [
      "power\n",
      "[[0.5 0.5]\n",
      " [0.5 0.5]]\n",
      "\n",
      "\n",
      "history\n",
      "[-1 -1 -1 -1]\n",
      "\n",
      "\n",
      "step_count\n",
      "0\n",
      "\n",
      "\n",
      "action_mask\n",
      "[[ True  True]\n",
      " [ True  True]\n",
      " [ True  True]\n",
      " [ True  True]]\n",
      "\n",
      "\n",
      "key\n",
      "Array((), dtype=key<fry>) overlaying:\n",
      "[0 0]\n",
      "\n",
      "\n",
      "step_type\n",
      "0\n",
      "\n",
      "\n",
      "reward\n",
      "[0. 0. 0. 0.]\n",
      "\n",
      "\n",
      "discount\n",
      "1.0\n",
      "\n",
      "\n",
      "observation\n",
      "Observation(agents_view=Array([ 0.5,  0.5,  0.5,  0.5, -1. , -1. , -1. , -1. ],      dtype=float32, weak_type=True), action_mask=Array([[ True,  True],\n",
      "       [ True,  True],\n",
      "       [ True,  True],\n",
      "       [ True,  True]], dtype=bool))\n",
      "\n",
      "\n",
      "extras\n",
      "{}\n",
      "\n",
      "\n"
     ]
    }
   ],
   "source": [
    "generator = IPDSquaredGenerator()\n",
    "env_config = {\n",
    "    \"epsilon_min\": -0.1,\n",
    "    \"epsilon_max\": 0.1,\n",
    "    \"scaling_factor\": 100,\n",
    "}\n",
    "env = IPDSquared(generator, **env_config)\n",
    "state, timestep = env.reset(key)\n",
    "unpack(state)\n",
    "unpack(timestep)"
   ]
  }
 ],
 "metadata": {
  "kernelspec": {
   "display_name": "Python 3",
   "language": "python",
   "name": "python3"
  },
  "language_info": {
   "codemirror_mode": {
    "name": "ipython",
    "version": 3
   },
   "file_extension": ".py",
   "mimetype": "text/x-python",
   "name": "python",
   "nbconvert_exporter": "python",
   "pygments_lexer": "ipython3",
   "version": "3.10.12"
  }
 },
 "nbformat": 4,
 "nbformat_minor": 2
}
