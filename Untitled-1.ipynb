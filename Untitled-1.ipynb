{
 "cells": [
  {
   "cell_type": "code",
   "execution_count": 1,
   "metadata": {},
   "outputs": [
    {
     "name": "stderr",
     "output_type": "stream",
     "text": [
      "WARNING:2025-01-21 11:40:54,174:jax._src.xla_bridge:987: An NVIDIA GPU may be present on this machine, but a CUDA-enabled jaxlib is not installed. Falling back to cpu.\n",
      "/home/ryanp/.local/lib/python3.10/site-packages/tqdm/auto.py:21: TqdmWarning: IProgress not found. Please update jupyter and ipywidgets. See https://ipywidgets.readthedocs.io/en/stable/user_install.html\n",
      "  from .autonotebook import tqdm as notebook_tqdm\n"
     ]
    }
   ],
   "source": [
    "from typing import Optional, Sequence, Tuple\n",
    "from jax_party.env import PartyEnvironment\n",
    "from jax_party.env_types import Action\n",
    "from jumanji.types import TimeStep, restart, termination, transition\n",
    "\n",
    "from jumanji.env import Environment\n",
    "from jumanji import specs\n",
    "import jax\n",
    "import jax.numpy as jnp\n",
    "import chex\n",
    "from functools import cached_property"
   ]
  },
  {
   "cell_type": "code",
   "execution_count": 2,
   "metadata": {},
   "outputs": [],
   "source": [
    "from jax_party.utils import tree_slice "
   ]
  },
  {
   "cell_type": "code",
   "execution_count": 3,
   "metadata": {},
   "outputs": [],
   "source": [
    "env = PartyEnvironment(1000)\n",
    "key = jax.random.PRNGKey(0)"
   ]
  },
  {
   "cell_type": "code",
   "execution_count": 4,
   "metadata": {},
   "outputs": [],
   "source": [
    "obs, timestep = env.reset(key)"
   ]
  },
  {
   "cell_type": "code",
   "execution_count": 5,
   "metadata": {},
   "outputs": [],
   "source": [
    "action_mask = obs.action_mask"
   ]
  },
  {
   "cell_type": "code",
   "execution_count": 6,
   "metadata": {},
   "outputs": [
    {
     "data": {
      "text/plain": [
       "Array([[False,  True,  True],\n",
       "       [ True, False, False],\n",
       "       [False,  True,  True]], dtype=bool)"
      ]
     },
     "execution_count": 6,
     "metadata": {},
     "output_type": "execute_result"
    }
   ],
   "source": [
    "action_mask"
   ]
  },
  {
   "cell_type": "code",
   "execution_count": null,
   "metadata": {},
   "outputs": [],
   "source": [
    "import itertools\n"
   ]
  },
  {
   "cell_type": "code",
   "execution_count": 8,
   "metadata": {},
   "outputs": [
    {
     "name": "stdout",
     "output_type": "stream",
     "text": [
      "active_agents [1 0 1]\n",
      "actions [0 1 2]\n",
      "corrected actions [0 0 2]\n",
      "[-1.  0.  5.]\n",
      "------------------------------\n",
      "active_agents [1 0 1]\n",
      "actions [0 2 1]\n",
      "corrected actions [0 0 1]\n",
      "[-1.  0.  3.]\n",
      "------------------------------\n",
      "active_agents [1 0 1]\n",
      "actions [1 0 2]\n",
      "corrected actions [1 0 2]\n",
      "[0. 0. 5.]\n",
      "------------------------------\n",
      "active_agents [1 0 1]\n",
      "actions [1 2 0]\n",
      "corrected actions [1 0 0]\n",
      "[ 3.  0. -1.]\n",
      "------------------------------\n",
      "active_agents [1 0 1]\n",
      "actions [2 0 1]\n",
      "corrected actions [2 0 1]\n",
      "[5. 0. 0.]\n",
      "------------------------------\n",
      "active_agents [1 0 1]\n",
      "actions [2 1 0]\n",
      "corrected actions [2 0 0]\n",
      "[ 5.  0. -1.]\n",
      "------------------------------\n"
     ]
    }
   ],
   "source": [
    "actions = jnp.array([-1, 1, 1])\n",
    "\n",
    "for actions in jnp.array(list(itertools.permutations([0, 1, 2]))):\n",
    "    print(\"active_agents\", obs.active_agents)\n",
    "    print(\"actions\", actions)\n",
    "    actions = env._get_valid_actions(actions, obs.action_mask)\n",
    "    print(\"corrected actions\", actions)\n",
    "    print(env._get_rewards(obs, actions))\n",
    "    print(\"-\" * 30)"
   ]
  }
 ],
 "metadata": {
  "kernelspec": {
   "display_name": "Python 3",
   "language": "python",
   "name": "python3"
  },
  "language_info": {
   "codemirror_mode": {
    "name": "ipython",
    "version": 3
   },
   "file_extension": ".py",
   "mimetype": "text/x-python",
   "name": "python",
   "nbconvert_exporter": "python",
   "pygments_lexer": "ipython3",
   "version": "3.10.12"
  }
 },
 "nbformat": 4,
 "nbformat_minor": 2
}
